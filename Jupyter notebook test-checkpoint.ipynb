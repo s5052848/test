{
 "cells": [
  {
   "cell_type": "code",
   "execution_count": 1,
   "metadata": {},
   "outputs": [
    {
     "data": {
      "text/latex": [
       "$\\displaystyle x{\\left(t \\right)} + \\frac{d}{d t} x{\\left(t \\right)} = 0$"
      ],
      "text/plain": [
       "Eq(x(t) + Derivative(x(t), t), 0)"
      ]
     },
     "metadata": {},
     "output_type": "display_data"
    },
    {
     "data": {
      "text/latex": [
       "$\\displaystyle x{\\left(t \\right)} = C_{1} e^{- t}$"
      ],
      "text/plain": [
       "Eq(x(t), C1*exp(-t))"
      ]
     },
     "metadata": {},
     "output_type": "display_data"
    }
   ],
   "source": [
    "from sympy import *\n",
    "import sympy as sp\n",
    "from matplotlib import *\n",
    "import matplotlib as plt\n",
    "\n",
    "t = sp.Symbol('t')\n",
    "\n",
    "x = sp.Function('x')(t)\n",
    "\n",
    "y = sp.Function('y')(t)\n",
    "\n",
    "\n",
    "eq = Eq(x.diff(t)+x,0)\n",
    "\n",
    "display(eq)\n",
    "\n",
    "f = dsolve(eq,x)\n",
    "\n",
    "display(f)"
   ]
  },
  {
   "cell_type": "code",
   "execution_count": null,
   "metadata": {},
   "outputs": [],
   "source": []
  }
 ],
 "metadata": {
  "kernelspec": {
   "display_name": "Python 3",
   "language": "python",
   "name": "python3"
  },
  "language_info": {
   "codemirror_mode": {
    "name": "ipython",
    "version": 3
   },
   "file_extension": ".py",
   "mimetype": "text/x-python",
   "name": "python",
   "nbconvert_exporter": "python",
   "pygments_lexer": "ipython3",
   "version": "3.8.2"
  }
 },
 "nbformat": 4,
 "nbformat_minor": 4
}
